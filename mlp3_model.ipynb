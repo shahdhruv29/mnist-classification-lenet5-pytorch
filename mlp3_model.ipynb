{
  "cells": [
    {
      "cell_type": "markdown",
      "metadata": {
        "id": "view-in-github",
        "colab_type": "text"
      },
      "source": [
        "<a href=\"https://colab.research.google.com/github/shahdhruv29/mnist-classification-lenet5-pytorch/blob/main/mlp3_model.ipynb\" target=\"_parent\"><img src=\"https://colab.research.google.com/assets/colab-badge.svg\" alt=\"Open In Colab\"/></a>"
      ]
    },
    {
      "cell_type": "code",
      "execution_count": null,
      "metadata": {
        "id": "k2-gllr3MRFO"
      },
      "outputs": [],
      "source": [
        "#Implemented the LeNet-5 Architecture on the digits 4, 9 and 3.\n",
        "import numpy as np\n",
        "import pandas as pd\n",
        "import matplotlib.pyplot as plt\n",
        "import torch\n",
        "import torch.nn as nn\n",
        "import torch.nn.functional as F\n",
        "from torch.utils.data import Dataset, DataLoader\n",
        "import torchvision\n",
        "import torchvision.transforms as transforms"
      ]
    },
    {
      "cell_type": "code",
      "source": [
        "from google.colab import drive\n",
        "drive.mount('/content/drive')"
      ],
      "metadata": {
        "colab": {
          "base_uri": "https://localhost:8080/"
        },
        "id": "F-5nFkvBMf9d",
        "outputId": "57f1addd-36f3-4576-f77f-0979eedfb355"
      },
      "execution_count": null,
      "outputs": [
        {
          "output_type": "stream",
          "name": "stdout",
          "text": [
            "Mounted at /content/drive\n"
          ]
        }
      ]
    },
    {
      "cell_type": "code",
      "execution_count": null,
      "metadata": {
        "colab": {
          "base_uri": "https://localhost:8080/"
        },
        "id": "n6oseNlrMRFT",
        "outputId": "b67f5b7f-aa4c-45a5-a10c-210aae5f40b0"
      },
      "outputs": [
        {
          "output_type": "stream",
          "name": "stdout",
          "text": [
            "(60000, 785)\n",
            "<class 'numpy.ndarray'>\n",
            "(60000, 784) (60000,)\n"
          ]
        }
      ],
      "source": [
        "#Loading the train data\n",
        "\n",
        "df=pd.read_csv('/content/drive/MyDrive/MNIST/mnist_train.csv')\n",
        "print(df.shape) \n",
        "\n",
        "\n",
        "#Convert df to pytorch tensor\n",
        "data=df.values\n",
        "print(type(data))\n",
        "# print(data.shape)\n",
        "\n",
        "X_train=data[:,1:]\n",
        "Y_train=data[:,0]\n",
        "print(X_train.shape,Y_train.shape)"
      ]
    },
    {
      "cell_type": "code",
      "execution_count": null,
      "metadata": {
        "colab": {
          "base_uri": "https://localhost:8080/"
        },
        "id": "Pr_b1H4MMRFV",
        "outputId": "8c85bc5e-3bf9-4201-b347-971def066241"
      },
      "outputs": [
        {
          "output_type": "stream",
          "name": "stdout",
          "text": [
            "(17922, 784) (17922,)\n"
          ]
        }
      ],
      "source": [
        "#A function to remove all the digits except 4 and 9 and 3.\n",
        "def remove(digit, x, y):\n",
        "    idx = (y != digit).nonzero()\n",
        "    return x[idx], y[idx]\n",
        "\n",
        "X_train, Y_train = remove(0, X_train, Y_train)\n",
        "X_train, Y_train = remove(1, X_train, Y_train)\n",
        "X_train, Y_train = remove(2, X_train, Y_train)\n",
        "X_train, Y_train = remove(5, X_train, Y_train)\n",
        "X_train, Y_train = remove(6, X_train, Y_train)\n",
        "X_train, Y_train = remove(7, X_train, Y_train)\n",
        "X_train, Y_train = remove(8, X_train, Y_train)\n",
        "\n",
        "\n",
        "print(X_train.shape, Y_train.shape)\n",
        "\n"
      ]
    },
    {
      "cell_type": "code",
      "execution_count": null,
      "metadata": {
        "colab": {
          "base_uri": "https://localhost:8080/"
        },
        "id": "QBDRfMgRMRFV",
        "outputId": "c07b39ed-2f18-4184-9d53-9249356c1f37"
      },
      "outputs": [
        {
          "output_type": "stream",
          "name": "stdout",
          "text": [
            "[0 1 2 0 2 2 1 0 1 0]\n"
          ]
        }
      ],
      "source": [
        "#Function to convert the labels to binary labels\n",
        "def convert_to_ternary(Y_train):\n",
        "    Y_train[Y_train==4]=0\n",
        "    Y_train[Y_train==9]=1\n",
        "    Y_train[Y_train==3]=2\n",
        "    return Y_train\n",
        "\n",
        "Y_train=convert_to_ternary(Y_train)\n",
        "print(Y_train[:10])"
      ]
    },
    {
      "cell_type": "code",
      "execution_count": null,
      "metadata": {
        "colab": {
          "base_uri": "https://localhost:8080/"
        },
        "id": "CTtfZINDMRFW",
        "outputId": "12c5dbc1-90e2-400a-e0e3-276dece4b34b"
      },
      "outputs": [
        {
          "output_type": "stream",
          "name": "stdout",
          "text": [
            "(17922, 785)\n",
            "[0 1 2 0 2 2 1 0 1 0]\n"
          ]
        }
      ],
      "source": [
        "#Here Y_train got appended in the last column of Data_new.\n",
        "\n",
        "Data_new = np.append(X_train, Y_train.reshape(-1,1), axis=1)\n",
        "print(Data_new.shape)\n",
        "print(Data_new[:10,784])"
      ]
    },
    {
      "cell_type": "code",
      "execution_count": null,
      "metadata": {
        "colab": {
          "base_uri": "https://localhost:8080/"
        },
        "id": "Eled_Hu9MRFW",
        "outputId": "c1b5b627-83ea-4dbb-fe6c-351e48cbb8e0"
      },
      "outputs": [
        {
          "output_type": "stream",
          "name": "stdout",
          "text": [
            "torch.Size([1, 17922, 785])\n",
            "torch.Size([17922, 784])\n",
            "torch.Size([17922, 1])\n",
            "torch.Size([784]) tensor(0)\n"
          ]
        }
      ],
      "source": [
        "Transform = transforms.ToTensor()\n",
        "Data_new= Transform(Data_new)\n",
        "print(Data_new.shape)\n",
        "\n",
        "X_train=Data_new[0,:,1:]\n",
        "Y_train=Data_new[0,:,784:]\n",
        "print(X_train.shape)\n",
        "print(Y_train.shape)  \n",
        "\n",
        "\n",
        "#Visualize the data\n",
        "img, label = X_train[0,:], Y_train[0,0]\n",
        "print(img.shape, label)"
      ]
    },
    {
      "cell_type": "code",
      "execution_count": null,
      "metadata": {
        "colab": {
          "base_uri": "https://localhost:8080/",
          "height": 281
        },
        "id": "IK7bFVzyMRFW",
        "outputId": "2aef94d0-adba-474c-8c99-e87d27d69386"
      },
      "outputs": [
        {
          "output_type": "display_data",
          "data": {
            "text/plain": [
              "<Figure size 432x288 with 1 Axes>"
            ],
            "image/png": "[encoded data removed]"
          },
          "metadata": {
            "needs_background": "light"
          }
        }
      ],
      "source": [
        "plt.imshow(img.reshape(28,28), cmap='gray')\n",
        "if label==0:\n",
        "    plt.title('Label: 4')\n",
        "elif label==1:\n",
        "    plt.title('Label: 9')\n",
        "else:\n",
        "    plt.title('Label: 3')\n",
        "plt.show()\n"
      ]
    },
    {
      "cell_type": "code",
      "execution_count": null,
      "metadata": {
        "colab": {
          "base_uri": "https://localhost:8080/"
        },
        "id": "T4OMIrKRMRFX",
        "outputId": "b6b71e92-bf5f-42a2-dc3e-70018f10222c"
      },
      "outputs": [
        {
          "output_type": "stream",
          "name": "stdout",
          "text": [
            "torch.Size([17922, 28, 28])\n",
            "torch.Size([17922, 32, 32])\n"
          ]
        }
      ],
      "source": [
        "#Resize each image to 28x28\n",
        "X_train=X_train.reshape(-1,28,28) #60000 images of 28x28\n",
        "print(X_train.shape)\n",
        "\n",
        "\n",
        "#Add padding to make the image 32x32\n",
        "X_train=torch.nn.functional.pad(X_train, (2,2,2,2), 'constant', 0)\n",
        "print(X_train.shape)"
      ]
    },
    {
      "cell_type": "code",
      "execution_count": null,
      "metadata": {
        "colab": {
          "base_uri": "https://localhost:8080/"
        },
        "id": "-KyFRqZ2MRFY",
        "outputId": "c8820b55-39d9-4a16-c57e-4c1ae0c570ec"
      },
      "outputs": [
        {
          "output_type": "stream",
          "name": "stdout",
          "text": [
            "torch.Size([17922, 32, 32])\n"
          ]
        }
      ],
      "source": [
        "#Normalize the data\n",
        "X_train.type(torch.float32)\n",
        "mean=torch.mean(X_train.type(torch.float32))\n",
        "std=torch.std(X_train.type(torch.float32))\n",
        "X_train = (X_train-mean)/std \n",
        "print(X_train.shape)\n"
      ]
    },
    {
      "cell_type": "code",
      "execution_count": null,
      "metadata": {
        "colab": {
          "base_uri": "https://localhost:8080/"
        },
        "id": "Ryh-dsRdMRFY",
        "outputId": "969b128f-c3e3-4b2f-a7e0-063245451310"
      },
      "outputs": [
        {
          "output_type": "stream",
          "name": "stdout",
          "text": [
            "Using cuda device\n"
          ]
        }
      ],
      "source": [
        "batch_size=8\n",
        "num_classes=3\n",
        "\n",
        "train_loader = torch.utils.data.DataLoader(dataset=X_train, batch_size=batch_size, shuffle=False)\n",
        "\n",
        "device = \"cuda\" if torch.cuda.is_available() else \"cpu\"\n",
        "print(f\"Using {device} device\")"
      ]
    },
    {
      "cell_type": "code",
      "execution_count": null,
      "metadata": {
        "id": "JTeLXsBkMRFY"
      },
      "outputs": [],
      "source": [
        "#Build a LeNet-5 model without ReLU \n",
        "class LeNet5(nn.Module):\n",
        "    def __init__(self) :\n",
        "        super(LeNet5, self).__init__()\n",
        "        self.layer1 = nn.Sequential(\n",
        "            nn.Conv2d(1,6,kernel_size=5,stride=1,padding=0),\n",
        "            # nn.ReLU(),\n",
        "            nn.MaxPool2d(kernel_size=2, stride=2)\n",
        "        )\n",
        "        self.layer2 = nn.Sequential(\n",
        "            nn.Conv2d(6,16,kernel_size=5,stride=1,padding=0),\n",
        "            # nn.ReLU(),\n",
        "            nn.MaxPool2d(kernel_size=2, stride=2)\n",
        "        )\n",
        "        self.layer3 = nn.Sequential(\n",
        "            nn.Conv2d(16,120,kernel_size=5,stride=1,padding=0),\n",
        "        )\n",
        "\n",
        "        self.fc=nn.Linear(120,84)\n",
        "        self.fc1=nn.Linear(84,10)\n",
        "        self.fc2=nn.Linear(10,3)\n",
        "    \n",
        "    def forward(self, x):\n",
        "        out=self.layer1(x)\n",
        "        out=self.layer2(out)\n",
        "        out=self.layer3(out)\n",
        "        out=out.reshape(out.size(0),-1)\n",
        "        out=self.fc(out)\n",
        "        # out=self.relu(out)\n",
        "        out=self.fc1(out)\n",
        "        out=self.fc2(out)\n",
        "        return out"
      ]
    },
    {
      "cell_type": "code",
      "execution_count": null,
      "metadata": {
        "colab": {
          "base_uri": "https://localhost:8080/"
        },
        "id": "8orSVS3TMRFZ",
        "outputId": "a5b9011b-36c1-43d3-95ff-6cec92ff5138"
      },
      "outputs": [
        {
          "output_type": "stream",
          "name": "stdout",
          "text": [
            "LeNet5(\n",
            "  (layer1): Sequential(\n",
            "    (0): Conv2d(1, 6, kernel_size=(5, 5), stride=(1, 1))\n",
            "    (1): MaxPool2d(kernel_size=2, stride=2, padding=0, dilation=1, ceil_mode=False)\n",
            "  )\n",
            "  (layer2): Sequential(\n",
            "    (0): Conv2d(6, 16, kernel_size=(5, 5), stride=(1, 1))\n",
            "    (1): MaxPool2d(kernel_size=2, stride=2, padding=0, dilation=1, ceil_mode=False)\n",
            "  )\n",
            "  (layer3): Sequential(\n",
            "    (0): Conv2d(16, 120, kernel_size=(5, 5), stride=(1, 1))\n",
            "  )\n",
            "  (fc): Linear(in_features=120, out_features=84, bias=True)\n",
            "  (fc1): Linear(in_features=84, out_features=10, bias=True)\n",
            "  (fc2): Linear(in_features=10, out_features=3, bias=True)\n",
            ")\n"
          ]
        }
      ],
      "source": [
        "#Setting the loss function and optimizer\n",
        "model = LeNet5().to(device)\n",
        "print(model)\n",
        "\n",
        "loss_fn = nn.CrossEntropyLoss()\n",
        "optimizer = torch.optim.Adam(model.parameters(), lr=1e-3)"
      ]
    },
    {
      "cell_type": "code",
      "execution_count": null,
      "metadata": {
        "colab": {
          "base_uri": "https://localhost:8080/"
        },
        "id": "Lzf5HoQyMRFZ",
        "outputId": "1c17f79a-7e44-48e2-a7f4-d2ecd5d78fe3"
      },
      "outputs": [
        {
          "output_type": "stream",
          "name": "stdout",
          "text": [
            "Epoch 0/4\n",
            "----------\n",
            "Loss: 0.0287 Acc: 0.9915\n",
            "Epoch 1/4\n",
            "----------\n",
            "Loss: 0.0290 Acc: 0.9929\n",
            "Epoch 2/4\n",
            "----------\n",
            "Loss: 0.0579 Acc: 0.9853\n",
            "Epoch 3/4\n",
            "----------\n",
            "Loss: 0.0167 Acc: 0.9955\n",
            "Epoch 4/4\n",
            "----------\n",
            "Loss: 0.0479 Acc: 0.9875\n"
          ]
        }
      ],
      "source": [
        "#Training the model\n",
        "total_step = len(train_loader)\n",
        "num_epochs = 5\n",
        "acc_history = []\n",
        "loss_history = []\n",
        "\n",
        "for epoch in range(num_epochs):\n",
        "    print('Epoch {}/{}'.format(epoch, num_epochs - 1))\n",
        "    print('-' * 10)\n",
        "    running_loss = 0.0\n",
        "    running_corrects = 0\n",
        "    \n",
        "    for i in range(total_step):\n",
        "        # print(X[i].shape)\n",
        "        images = X_train[i].reshape(1,1,32,32).to(device)\n",
        "        # print(images.shape)\n",
        "        labels = Y_train[i,:].to(device)\n",
        "        # print(labels.shape)\n",
        "        \n",
        "        # Forward pass\n",
        "        outputs = model(images)\n",
        "        loss = loss_fn(outputs, labels)\n",
        "        _, preds = torch.max(outputs, 1)\n",
        "        \n",
        "        # Backward and optimize\n",
        "        optimizer.zero_grad()\n",
        "        loss.backward()\n",
        "        optimizer.step()\n",
        "\n",
        "        running_loss += loss.item() * images.size(0)\n",
        "        running_corrects += torch.sum(preds == labels.data)\n",
        "\n",
        "    epoch_loss = running_loss / total_step\n",
        "    epoch_acc = running_corrects.double() / total_step\n",
        "\n",
        "    print('Loss: {:.4f} Acc: {:.4f}'.format(epoch_loss, epoch_acc))\n",
        "\n",
        "    acc_history.append(epoch_acc.item())\n",
        "    loss_history.append(epoch_loss)"
      ]
    },
    {
      "cell_type": "code",
      "source": [
        "# Save the model using in pkl format\n",
        "torch.save(model.state_dict(), '/content/drive/MyDrive/MNIST/mlp_model3.pkl')"
      ],
      "metadata": {
        "id": "GA5DcjCqNoG8"
      },
      "execution_count": null,
      "outputs": []
    },
    {
      "cell_type": "code",
      "source": [
        "plt.plot(acc_history, color='r')"
      ],
      "metadata": {
        "colab": {
          "base_uri": "https://localhost:8080/",
          "height": 285
        },
        "id": "MgBkvU4_NsYx",
        "outputId": "f1e34228-1d57-4c9b-de71-8df30e30e53f"
      },
      "execution_count": null,
      "outputs": [
        {
          "output_type": "execute_result",
          "data": {
            "text/plain": [
              "[<matplotlib.lines.Line2D at 0x7faf61e602e0>]"
            ]
          },
          "metadata": {},
          "execution_count": 17
        },
        {
          "output_type": "display_data",
          "data": {
            "text/plain": [
              "<Figure size 432x288 with 1 Axes>"
            ],
            "image/png": "[encoded data removed]"
          },
          "metadata": {
            "needs_background": "light"
          }
        }
      ]
    },
    {
      "cell_type": "code",
      "execution_count": null,
      "metadata": {
        "colab": {
          "base_uri": "https://localhost:8080/"
        },
        "id": "xTZnD5VnMRFa",
        "outputId": "a5c4a2ac-ce1a-4837-931a-2f38a337184d"
      },
      "outputs": [
        {
          "output_type": "stream",
          "name": "stdout",
          "text": [
            "(10000, 785)\n",
            "<class 'numpy.ndarray'>\n",
            "(10000, 784)\n",
            "(10000,)\n"
          ]
        }
      ],
      "source": [
        "#Loading the test data\n",
        "df2=pd.read_csv('/content/drive/MyDrive/MNIST/mnist_test.csv')\n",
        "print(df2.shape)\n",
        "\n",
        "\n",
        "#Convert df to pytorch tensor\n",
        "data2=df2.values\n",
        "print(type(data2))\n",
        "\n",
        "X_test=data2[:,1:]\n",
        "Y_test=data2[:,0]\n",
        "print(X_test.shape)\n",
        "print(Y_test.shape)"
      ]
    },
    {
      "cell_type": "code",
      "execution_count": null,
      "metadata": {
        "colab": {
          "base_uri": "https://localhost:8080/"
        },
        "id": "Wt6mdlMgMRFa",
        "outputId": "177c7c82-68d5-4c90-d5d9-92b5893d2918"
      },
      "outputs": [
        {
          "output_type": "stream",
          "name": "stdout",
          "text": [
            "(3001, 784) (3001,)\n",
            "(3001,)\n"
          ]
        }
      ],
      "source": [
        "X_test, Y_test = remove(1, X_test, Y_test)\n",
        "X_test, Y_test = remove(0, X_test, Y_test)\n",
        "X_test, Y_test = remove(2, X_test, Y_test)\n",
        "X_test, Y_test = remove(5, X_test, Y_test)\n",
        "X_test, Y_test = remove(6, X_test, Y_test)\n",
        "X_test, Y_test = remove(7, X_test, Y_test)\n",
        "X_test, Y_test = remove(8, X_test, Y_test)\n",
        "\n",
        "print(X_test.shape, Y_test.shape)\n",
        "\n",
        "#Convert Y_test to ternary\n",
        "Y_test=convert_to_ternary(Y_test)\n",
        "print(Y_test.shape)\n"
      ]
    },
    {
      "cell_type": "code",
      "execution_count": null,
      "metadata": {
        "colab": {
          "base_uri": "https://localhost:8080/"
        },
        "id": "pFREX0oSMRFa",
        "outputId": "87734c18-ab4b-4615-9edc-3bebbcfcee23"
      },
      "outputs": [
        {
          "output_type": "stream",
          "name": "stdout",
          "text": [
            "(3001, 785)\n"
          ]
        }
      ],
      "source": [
        "Data_test=np.append(X_test, Y_test.reshape(-1,1), axis=1)\n",
        "print(Data_test.shape)"
      ]
    },
    {
      "cell_type": "code",
      "execution_count": null,
      "metadata": {
        "colab": {
          "base_uri": "https://localhost:8080/"
        },
        "id": "Ev9vjTEBMRFa",
        "outputId": "2177e9b7-62bc-47bc-b6a7-f7bcd2fac3fb"
      },
      "outputs": [
        {
          "output_type": "stream",
          "name": "stdout",
          "text": [
            "torch.Size([1, 3001, 785])\n",
            "torch.Size([3001, 784])\n",
            "torch.Size([3001, 1])\n",
            "torch.Size([784]) tensor(0)\n"
          ]
        }
      ],
      "source": [
        "#Transform the data\n",
        "Data_test= Transform(Data_test)\n",
        "print(Data_test.shape)\n",
        "\n",
        "X_test=Data_test[0,:,1:]\n",
        "Y_test=Data_test[0,:,784:]\n",
        "print(X_test.shape)\n",
        "print(Y_test.shape)\n",
        "\n",
        "#Visualize the data\n",
        "img, label = X_test[0,:], Y_test[0,0]\n",
        "print(img.shape, label)"
      ]
    },
    {
      "cell_type": "code",
      "execution_count": null,
      "metadata": {
        "colab": {
          "base_uri": "https://localhost:8080/",
          "height": 333
        },
        "id": "8a-561LWMRFa",
        "outputId": "61c54b4f-0fbe-4173-ac7f-69e79a72b404"
      },
      "outputs": [
        {
          "output_type": "display_data",
          "data": {
            "text/plain": [
              "<Figure size 432x288 with 1 Axes>"
            ],
            "image/png": "[encoded data removed]"
          },
          "metadata": {
            "needs_background": "light"
          }
        },
        {
          "output_type": "stream",
          "name": "stdout",
          "text": [
            "torch.Size([3001, 28, 28])\n",
            "torch.Size([3001, 32, 32])\n",
            "torch.Size([3001, 32, 32])\n"
          ]
        }
      ],
      "source": [
        "\n",
        "plt.imshow(img.reshape(28,28), cmap='gray')\n",
        "if label==0:\n",
        "    plt.title('Label: 4')\n",
        "elif label==1:\n",
        "    plt.title('Label: 9')\n",
        "else:\n",
        "    plt.title('Label: 3')\n",
        "plt.show()\n",
        "\n",
        "#Resize each image to 28x28\n",
        "X_test=X_test.reshape(-1,28,28) #60000 images of 28x28\n",
        "print(X_test.shape)\n",
        "\n",
        "\n",
        "#Add padding to make the image 32x32\n",
        "X_test=torch.nn.functional.pad(X_test, (2,2,2,2), 'constant', 0)\n",
        "print(X_test.shape)\n",
        "\n",
        "\n",
        "#Normalize the data\n",
        "X_test.type(torch.float32)\n",
        "mean=torch.mean(X_test.type(torch.float32))\n",
        "std=torch.std(X_test.type(torch.float32))\n",
        "X_test = (X_test-mean)/std\n",
        "print(X_test.shape)"
      ]
    },
    {
      "cell_type": "code",
      "execution_count": null,
      "metadata": {
        "colab": {
          "base_uri": "https://localhost:8080/"
        },
        "id": "dmfcO79cMRFb",
        "outputId": "94d5be36-9879-4a53-879a-c05e1fd2264f"
      },
      "outputs": [
        {
          "output_type": "stream",
          "name": "stdout",
          "text": [
            "Accuracy of the network on the test images: 98.30056647784072 %\n"
          ]
        }
      ],
      "source": [
        "#Testing the model\n",
        "with torch.no_grad():\n",
        "    n_correct = 0\n",
        "    n_samples = 0\n",
        "    for i in range(len(X_test)):\n",
        "        images = X_test[i].reshape(1,1,32,32).to(device)\n",
        "        labels = Y_test[i,:].to(device)\n",
        "        outputs = model(images)\n",
        "        \n",
        "        # max returns (value ,index)\n",
        "        _, predicted = torch.max(outputs.data, 1)\n",
        "        n_samples += labels.size(0)\n",
        "        n_correct += (predicted == labels).sum().item()\n",
        "    \n",
        "    acc = 100.0 * n_correct / n_samples\n",
        "    print(f'Accuracy of the network on the test images: {acc} %')"
      ]
    },
    {
      "cell_type": "code",
      "execution_count": null,
      "metadata": {
        "colab": {
          "base_uri": "https://localhost:8080/"
        },
        "id": "yHehVTXhMRFb",
        "outputId": "0ed408dc-3ae6-4d2f-e2ca-372c39eab777"
      },
      "outputs": [
        {
          "output_type": "stream",
          "name": "stdout",
          "text": [
            "Accuracy of 4 : 97.14867617107943 %\n",
            "Accuracy of 9 : 99.10802775024777 %\n",
            "Accuracy of 3 : 98.61386138613861 %\n"
          ]
        }
      ],
      "source": [
        "#Print a confusion matrix to see the performance of the model\n",
        "# Here we observed that the accuracy of 4 and 9 goes down when 3 is also trained together with them.\n",
        "with torch.no_grad():\n",
        "    n_samples = 0\n",
        "    n_class_correct = [0 for i in range(3)]\n",
        "    n_class_samples = [0 for i in range(3)]\n",
        "    for i in range(len(X_test)):\n",
        "        images = X_test[i].reshape(1,1,32,32).to(device)\n",
        "        labels = Y_test[i,:].to(device)\n",
        "        outputs = model(images)\n",
        "        \n",
        "        # max returns (value ,index)\n",
        "        _, predicted = torch.max(outputs, 1)\n",
        "        c = (predicted == labels).squeeze()\n",
        "        n_samples += labels.size(0)\n",
        "        n_class_samples[labels] += 1\n",
        "        n_class_correct[labels] += c.item()\n",
        "    \n",
        "    for i in range(3):\n",
        "        switch = {0:4, 1:9, 2:3}\n",
        "        case = switch.get(i)\n",
        "        acc = 100.0 * n_class_correct[i] / n_class_samples[i]\n",
        "        print(f'Accuracy of {case} : {acc} %')"
      ]
    }
  ],
  "metadata": {
    "kernelspec": {
      "display_name": "Python 3.7.6 64-bit",
      "language": "python",
      "name": "python3"
    },
    "language_info": {
      "codemirror_mode": {
        "name": "ipython",
        "version": 3
      },
      "file_extension": ".py",
      "mimetype": "text/x-python",
      "name": "python",
      "nbconvert_exporter": "python",
      "pygments_lexer": "ipython3",
      "version": "3.7.6 (tags/v3.7.6:43364a7ae0, Dec 19 2019, 00:42:30) [MSC v.1916 64 bit (AMD64)]"
    },
    "orig_nbformat": 4,
    "vscode": {
      "interpreter": {
        "hash": "c4e677bd2fa28ed09d759069727da337a6d89193986d5f7d2179a74a78bebb11"
      }
    },
    "colab": {
      "provenance": [],
      "include_colab_link": true
    },
    "accelerator": "GPU",
    "gpuClass": "standard"
  },
  "nbformat": 4,
  "nbformat_minor": 0
}