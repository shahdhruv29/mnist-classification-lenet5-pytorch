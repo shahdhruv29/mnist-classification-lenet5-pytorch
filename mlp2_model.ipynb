{
  "cells": [
    {
      "cell_type": "markdown",
      "metadata": {
        "id": "view-in-github",
        "colab_type": "text"
      },
      "source": [
        "<a href=\"https://colab.research.google.com/github/shahdhruv29/mnist-classification-lenet5-pytorch/blob/main/mlp2_model.ipynb\" target=\"_parent\"><img src=\"https://colab.research.google.com/assets/colab-badge.svg\" alt=\"Open In Colab\"/></a>"
      ]
    },
    {
      "cell_type": "code",
      "execution_count": null,
      "metadata": {
        "id": "ZkLrZX7jFaAX"
      },
      "outputs": [],
      "source": [
        "# Implemented the LeNet-5 Architecture for the images of digit 4 and 9.\n",
        "import numpy as np\n",
        "import pandas as pd\n",
        "import matplotlib.pyplot as plt\n",
        "import torch\n",
        "import torch.nn as nn\n",
        "import torch.nn.functional as F\n",
        "from torch.utils.data import Dataset, DataLoader\n",
        "import torchvision\n",
        "import torchvision.transforms as transforms"
      ]
    },
    {
      "cell_type": "code",
      "source": [
        "from google.colab import drive\n",
        "drive.mount('/content/drive')"
      ],
      "metadata": {
        "colab": {
          "base_uri": "https://localhost:8080/"
        },
        "id": "Qw_UXz78Fr7Q",
        "outputId": "8edec20e-2c22-43db-e407-0e1e95b55e34"
      },
      "execution_count": null,
      "outputs": [
        {
          "output_type": "stream",
          "name": "stdout",
          "text": [
            "Mounted at /content/drive\n"
          ]
        }
      ]
    },
    {
      "cell_type": "code",
      "execution_count": null,
      "metadata": {
        "colab": {
          "base_uri": "https://localhost:8080/"
        },
        "id": "-cXNNH0YFaAY",
        "outputId": "a0b6bed8-7707-4703-86d2-742b4f869ff7"
      },
      "outputs": [
        {
          "output_type": "stream",
          "name": "stdout",
          "text": [
            "(60000, 785)\n",
            "<class 'numpy.ndarray'>\n",
            "(60000, 784) (60000,)\n"
          ]
        }
      ],
      "source": [
        "#Loading the train data\n",
        "\n",
        "df=pd.read_csv('/content/drive/MyDrive/MNIST/mnist_train.csv')\n",
        "print(df.shape)\n",
        "# print(type(df))\n",
        "\n",
        "\n",
        "#Convert df to pytorch tensor\n",
        "data=df.values\n",
        "print(type(data))\n",
        "# print(data.shape)\n",
        "\n",
        "X_train=data[:,1:]\n",
        "Y_train=data[:,0]\n",
        "print(X_train.shape,Y_train.shape)"
      ]
    },
    {
      "cell_type": "code",
      "execution_count": null,
      "metadata": {
        "colab": {
          "base_uri": "https://localhost:8080/"
        },
        "id": "ANm5_Mz7FaAZ",
        "outputId": "a5e736e3-6e48-4b34-b599-ae8f7e63de6c"
      },
      "outputs": [
        {
          "output_type": "stream",
          "name": "stdout",
          "text": [
            "(11791, 784) (11791,)\n"
          ]
        }
      ],
      "source": [
        "#A function to remove all the digits except 4 and 9.\n",
        "def remove(digit, x, y):\n",
        "    idx = (y != digit).nonzero()\n",
        "    return x[idx], y[idx]\n",
        "\n",
        "X_train, Y_train = remove(0, X_train, Y_train)\n",
        "X_train, Y_train = remove(1, X_train, Y_train)\n",
        "X_train, Y_train = remove(2, X_train, Y_train)\n",
        "X_train, Y_train = remove(3, X_train, Y_train)\n",
        "X_train, Y_train = remove(5, X_train, Y_train)\n",
        "X_train, Y_train = remove(6, X_train, Y_train)\n",
        "X_train, Y_train = remove(7, X_train, Y_train)\n",
        "X_train, Y_train = remove(8, X_train, Y_train)\n",
        "print(X_train.shape, Y_train.shape)\n"
      ]
    },
    {
      "cell_type": "code",
      "execution_count": null,
      "metadata": {
        "colab": {
          "base_uri": "https://localhost:8080/"
        },
        "id": "Fom3pl9yFaAa",
        "outputId": "4e972ef5-560f-4d69-9ed9-55e5501277ff"
      },
      "outputs": [
        {
          "output_type": "stream",
          "name": "stdout",
          "text": [
            "[0 1 0 1 0 1 0 1 1 1]\n"
          ]
        }
      ],
      "source": [
        "#Function to convert the labels to binary labels\n",
        "def convert_to_binary(Y_train):\n",
        "    Y_train[Y_train==4]=0\n",
        "    Y_train[Y_train==9]=1\n",
        "    return Y_train\n",
        "\n",
        "Y_train=convert_to_binary(Y_train)\n",
        "print(Y_train[:10])"
      ]
    },
    {
      "cell_type": "code",
      "execution_count": null,
      "metadata": {
        "colab": {
          "base_uri": "https://localhost:8080/"
        },
        "id": "vyrFhg9NFaAa",
        "outputId": "8651e88f-b779-4071-8d82-1f60d3dfd513"
      },
      "outputs": [
        {
          "output_type": "stream",
          "name": "stdout",
          "text": [
            "(11791, 785)\n",
            "[0 1 0 1 0 1 0 1 1 1]\n"
          ]
        }
      ],
      "source": [
        "#Here Y_train got appended in the last column of Data_new.\n",
        "\n",
        "Data_new = np.append(X_train, Y_train.reshape(-1,1), axis=1)\n",
        "print(Data_new.shape)\n",
        "print(Data_new[:10,784]) #Checking the labels"
      ]
    },
    {
      "cell_type": "code",
      "execution_count": null,
      "metadata": {
        "colab": {
          "base_uri": "https://localhost:8080/"
        },
        "id": "WrfQnDkGFaAa",
        "outputId": "ee1cd782-7373-41b0-cc63-07d50b16dedd"
      },
      "outputs": [
        {
          "output_type": "stream",
          "name": "stdout",
          "text": [
            "torch.Size([1, 11791, 785])\n",
            "torch.Size([11791, 784])\n",
            "torch.Size([11791, 1])\n",
            "torch.Size([784]) tensor(0)\n"
          ]
        }
      ],
      "source": [
        "Transform = transforms.ToTensor()\n",
        "Data_new= Transform(Data_new)\n",
        "print(Data_new.shape)\n",
        "\n",
        "X_train=Data_new[0,:,1:]\n",
        "Y_train=Data_new[0,:,784:]\n",
        "print(X_train.shape)\n",
        "print(Y_train.shape)  \n",
        "\n",
        "\n",
        "#Visualize the data\n",
        "img, label = X_train[0,:], Y_train[0,0]\n",
        "print(img.shape, label)"
      ]
    },
    {
      "cell_type": "code",
      "execution_count": null,
      "metadata": {
        "colab": {
          "base_uri": "https://localhost:8080/",
          "height": 281
        },
        "id": "26AptPDRFaAa",
        "outputId": "c008127c-9fbc-4cf3-fe4d-6974a50beda4"
      },
      "outputs": [
        {
          "output_type": "display_data",
          "data": {
            "text/plain": [
              "<Figure size 432x288 with 1 Axes>"
            ],
            "image/png": "[encoded data removed]"
          },
          "metadata": {
            "needs_background": "light"
          }
        }
      ],
      "source": [
        "plt.imshow(img.reshape(28,28), cmap='gray')\n",
        "if label==0:\n",
        "    plt.title('Label: 4')\n",
        "else:\n",
        "    plt.title('Label: 9')\n",
        "plt.show()"
      ]
    },
    {
      "cell_type": "code",
      "execution_count": null,
      "metadata": {
        "colab": {
          "base_uri": "https://localhost:8080/"
        },
        "id": "DEMSmNf1FaAb",
        "outputId": "611c0c36-b7f6-4068-90bd-35be162e981d"
      },
      "outputs": [
        {
          "output_type": "stream",
          "name": "stdout",
          "text": [
            "torch.Size([11791, 28, 28])\n",
            "torch.Size([11791, 32, 32])\n"
          ]
        }
      ],
      "source": [
        "#Resize each image to 28x28\n",
        "X_train=X_train.reshape(-1,28,28)\n",
        "print(X_train.shape)\n",
        "\n",
        "#Add padding to make the image 32x32\n",
        "X_train=torch.nn.functional.pad(X_train, (2,2,2,2), 'constant', 0)\n",
        "print(X_train.shape)"
      ]
    },
    {
      "cell_type": "code",
      "execution_count": null,
      "metadata": {
        "colab": {
          "base_uri": "https://localhost:8080/"
        },
        "id": "23I5awz0FaAb",
        "outputId": "d8ea9b50-bdfc-49c5-eb4d-4b7e61423d48"
      },
      "outputs": [
        {
          "output_type": "stream",
          "name": "stdout",
          "text": [
            "torch.Size([11791, 32, 32])\n"
          ]
        }
      ],
      "source": [
        "#Normalize the data\n",
        "X_train.type(torch.float32)\n",
        "mean=torch.mean(X_train.type(torch.float32))\n",
        "std=torch.std(X_train.type(torch.float32))\n",
        "X_train = (X_train-mean)/std \n",
        "print(X_train.shape)\n"
      ]
    },
    {
      "cell_type": "code",
      "execution_count": null,
      "metadata": {
        "colab": {
          "base_uri": "https://localhost:8080/"
        },
        "id": "mXJyeSMvFaAb",
        "outputId": "e54975ab-5143-40dd-f569-9dab5f98b6c8"
      },
      "outputs": [
        {
          "output_type": "stream",
          "name": "stdout",
          "text": [
            "Using cpu device\n"
          ]
        }
      ],
      "source": [
        "batch_size=8\n",
        "num_classes=2\n",
        "\n",
        "train_loader = torch.utils.data.DataLoader(dataset=X_train, batch_size=batch_size, shuffle=False)\n",
        "\n",
        "device = \"cuda\" if torch.cuda.is_available() else \"cpu\"\n",
        "print(f\"Using {device} device\")"
      ]
    },
    {
      "cell_type": "code",
      "execution_count": null,
      "metadata": {
        "id": "cPXTnum7FaAc"
      },
      "outputs": [],
      "source": [
        "#Build a LeNet-5 model without ReLU \n",
        "class LeNet5(nn.Module):\n",
        "    def __init__(self) :\n",
        "        super(LeNet5, self).__init__()\n",
        "        self.layer1 = nn.Sequential(\n",
        "            nn.Conv2d(1,6,kernel_size=5,stride=1,padding=0),\n",
        "            # nn.ReLU(),\n",
        "            nn.MaxPool2d(kernel_size=2, stride=2)\n",
        "        )\n",
        "        self.layer2 = nn.Sequential(\n",
        "            nn.Conv2d(6,16,kernel_size=5,stride=1,padding=0),\n",
        "            # nn.ReLU(),\n",
        "            nn.MaxPool2d(kernel_size=2, stride=2)\n",
        "        )\n",
        "        self.layer3 = nn.Sequential(\n",
        "            nn.Conv2d(16,120,kernel_size=5,stride=1,padding=0),\n",
        "        )\n",
        "\n",
        "        self.fc=nn.Linear(120,84)\n",
        "        # self.relu=nn.ReLU()\n",
        "        self.fc1=nn.Linear(84,10)\n",
        "        # self.relu=nn.ReLU()\n",
        "        self.fc2=nn.Linear(10,1)\n",
        "        # self.sigmoid=nn.Sigmoid()\n",
        "        \n",
        "        \n",
        "    \n",
        "    def forward(self, x):\n",
        "        out=self.layer1(x)\n",
        "        out=self.layer2(out)\n",
        "        out=self.layer3(out)\n",
        "        out=out.reshape(out.size(0),-1)\n",
        "        out=self.fc(out)\n",
        "        # out=self.relu(out)\n",
        "        out=self.fc1(out)\n",
        "        # out=self.relu(out)\n",
        "        out=self.fc2(out)\n",
        "        # out=self.sigmoid(out)\n",
        "        # out=self.fc2(out)\n",
        "        return out"
      ]
    },
    {
      "cell_type": "code",
      "execution_count": null,
      "metadata": {
        "colab": {
          "base_uri": "https://localhost:8080/"
        },
        "id": "CQavtBCFFaAd",
        "outputId": "bbb133d8-20cb-484c-b8bc-408128f6f177"
      },
      "outputs": [
        {
          "output_type": "stream",
          "name": "stdout",
          "text": [
            "LeNet5(\n",
            "  (layer1): Sequential(\n",
            "    (0): Conv2d(1, 6, kernel_size=(5, 5), stride=(1, 1))\n",
            "    (1): MaxPool2d(kernel_size=2, stride=2, padding=0, dilation=1, ceil_mode=False)\n",
            "  )\n",
            "  (layer2): Sequential(\n",
            "    (0): Conv2d(6, 16, kernel_size=(5, 5), stride=(1, 1))\n",
            "    (1): MaxPool2d(kernel_size=2, stride=2, padding=0, dilation=1, ceil_mode=False)\n",
            "  )\n",
            "  (layer3): Sequential(\n",
            "    (0): Conv2d(16, 120, kernel_size=(5, 5), stride=(1, 1))\n",
            "  )\n",
            "  (fc): Linear(in_features=120, out_features=84, bias=True)\n",
            "  (fc1): Linear(in_features=84, out_features=10, bias=True)\n",
            "  (fc2): Linear(in_features=10, out_features=1, bias=True)\n",
            ")\n"
          ]
        }
      ],
      "source": [
        "#Setting the loss function and optimizer\n",
        "model = LeNet5().to(device)\n",
        "print(model)\n",
        "\n",
        "loss_fn = nn.BCEWithLogitsLoss() #Binary Cross Entropy Loss without sigmoid activation\n",
        "optimizer = torch.optim.Adam(model.parameters(), lr=1e-3)"
      ]
    },
    {
      "cell_type": "code",
      "execution_count": null,
      "metadata": {
        "colab": {
          "base_uri": "https://localhost:8080/"
        },
        "id": "fYBO35PuFaAd",
        "outputId": "bcc4d995-8c0d-456f-e76c-9aa72b468e24"
      },
      "outputs": [
        {
          "output_type": "stream",
          "name": "stdout",
          "text": [
            "Epoch 0/4\n",
            "----------\n",
            "Loss: 0.0511 Acc: 0.9817\n",
            "Epoch 1/4\n",
            "----------\n",
            "Loss: 0.0420 Acc: 0.9891\n",
            "Epoch 2/4\n",
            "----------\n",
            "Loss: 0.0449 Acc: 0.9864\n",
            "Epoch 3/4\n",
            "----------\n",
            "Loss: 0.0249 Acc: 0.9946\n",
            "Epoch 4/4\n",
            "----------\n",
            "Loss: 0.0260 Acc: 0.9919\n"
          ]
        }
      ],
      "source": [
        "#Training the model\n",
        "total_step = len(train_loader)\n",
        "num_epochs = 5\n",
        "acc_history = []\n",
        "loss_history = []\n",
        "\n",
        "for epoch in range(num_epochs):\n",
        "    print('Epoch {}/{}'.format(epoch, num_epochs - 1))\n",
        "    print('-' * 10)\n",
        "    running_loss = 0.0\n",
        "    running_corrects = 0\n",
        "    \n",
        "    for i in range(total_step):\n",
        "        # print(X[i].shape)\n",
        "        images = X_train[i].reshape(1,1,32,32).to(device)\n",
        "        # print(images.shape)\n",
        "        labels = Y_train[i,:].to(device)\n",
        "        # print(labels.shape)\n",
        "        \n",
        "        # Forward pass\n",
        "        outputs = model(images)\n",
        "        outputs = outputs.squeeze(1)\n",
        "        # print(outputs.size())\n",
        "        loss = loss_fn(outputs, labels.float())\n",
        "        preds = torch.round(torch.sigmoid(outputs))\n",
        "        \n",
        "        # Backward and optimize\n",
        "        optimizer.zero_grad()\n",
        "        loss.backward()\n",
        "        optimizer.step()\n",
        "\n",
        "        running_loss += loss.item() * images.size(0)\n",
        "        running_corrects += torch.sum(preds == labels.data)\n",
        "\n",
        "    epoch_loss = running_loss / total_step\n",
        "    epoch_acc = running_corrects.double() / total_step\n",
        "\n",
        "    print('Loss: {:.4f} Acc: {:.4f}'.format(epoch_loss, epoch_acc))\n",
        "\n",
        "    acc_history.append(epoch_acc.item())\n",
        "    loss_history.append(epoch_loss)\n",
        "\n"
      ]
    },
    {
      "cell_type": "code",
      "execution_count": null,
      "metadata": {
        "id": "bM0s-r1sFaAe"
      },
      "outputs": [],
      "source": [
        "# Save the model using in pkl format\n",
        "torch.save(model.state_dict(), '/content/drive/MyDrive/MNIST/mlp_model2.pkl')"
      ]
    },
    {
      "cell_type": "code",
      "execution_count": null,
      "metadata": {
        "id": "gq4xHqDnFaAe",
        "outputId": "f4b96a6f-6f90-4d77-e9d9-4708a61d9910"
      },
      "outputs": [
        {
          "name": "stdout",
          "output_type": "stream",
          "text": [
            "Accuracy of the model on the test images: 98.27834789246035 %\n"
          ]
        }
      ],
      "source": [
        "with torch.no_grad():\n",
        "    n_correct = 0\n",
        "    n_samples = 0\n",
        "    for i in range(len(X_train)):\n",
        "        images = X_train[i].reshape(1,1,32,32).to(device)\n",
        "        labels = Y_train[i,:].to(device)\n",
        "        outputs = model(images)\n",
        "        outputs=outputs.squeeze(1)\n",
        "        predicted = torch.round(torch.sigmoid(outputs))\n",
        "        n_samples += labels.size(0)\n",
        "        n_correct += (predicted == labels).sum().item()  \n",
        "    acc = 100.0 * n_correct / n_samples\n",
        "    print(f'Accuracy of the model on the training images: {acc} %')"
      ]
    },
    {
      "cell_type": "code",
      "source": [
        "plt.plot(acc_history, color='r')"
      ],
      "metadata": {
        "colab": {
          "base_uri": "https://localhost:8080/",
          "height": 282
        },
        "id": "nnrS017NIPBE",
        "outputId": "8ba47174-d913-4434-ae84-16402ebe86cb"
      },
      "execution_count": null,
      "outputs": [
        {
          "output_type": "execute_result",
          "data": {
            "text/plain": [
              "[<matplotlib.lines.Line2D at 0x7eff524e0820>]"
            ]
          },
          "metadata": {},
          "execution_count": 27
        },
        {
          "output_type": "display_data",
          "data": {
            "text/plain": [
              "<Figure size 432x288 with 1 Axes>"
            ],
            "image/png": "[encoded data removed]"
          },
          "metadata": {
            "needs_background": "light"
          }
        }
      ]
    },
    {
      "cell_type": "code",
      "execution_count": null,
      "metadata": {
        "colab": {
          "base_uri": "https://localhost:8080/"
        },
        "id": "mu1yIVn4FaAe",
        "outputId": "daf50183-c4c9-45a4-8824-a74d94ea1495"
      },
      "outputs": [
        {
          "output_type": "stream",
          "name": "stdout",
          "text": [
            "(10000, 785)\n",
            "<class 'numpy.ndarray'>\n",
            "(10000, 784)\n",
            "(10000,)\n"
          ]
        }
      ],
      "source": [
        "#Loading the test data\n",
        "df2=pd.read_csv('/content/drive/MyDrive/MNIST/mnist_test.csv')\n",
        "print(df2.shape)\n",
        "\n",
        "\n",
        "#Convert df to pytorch tensor\n",
        "data2=df2.values\n",
        "print(type(data2))\n",
        "\n",
        "X_test=data2[:,1:]\n",
        "Y_test=data2[:,0]\n",
        "print(X_test.shape)\n",
        "print(Y_test.shape)"
      ]
    },
    {
      "cell_type": "code",
      "execution_count": null,
      "metadata": {
        "colab": {
          "base_uri": "https://localhost:8080/"
        },
        "id": "2ALfk8nSFaAe",
        "outputId": "046afed2-aa5c-421e-8ce4-329207eceb2e"
      },
      "outputs": [
        {
          "output_type": "stream",
          "name": "stdout",
          "text": [
            "(1991, 784) (1991,)\n",
            "(1991,)\n"
          ]
        }
      ],
      "source": [
        "X_test, Y_test = remove(0, X_test, Y_test)\n",
        "X_test, Y_test = remove(1, X_test, Y_test)\n",
        "X_test, Y_test = remove(2, X_test, Y_test)\n",
        "X_test, Y_test = remove(3, X_test, Y_test)\n",
        "X_test, Y_test = remove(5, X_test, Y_test)\n",
        "X_test, Y_test = remove(6, X_test, Y_test)\n",
        "X_test, Y_test = remove(7, X_test, Y_test)\n",
        "X_test, Y_test = remove(8, X_test, Y_test)\n",
        "\n",
        "print(X_test.shape, Y_test.shape)\n",
        "\n",
        "Y_test = convert_to_binary(Y_test)\n",
        "print(Y_test.shape)"
      ]
    },
    {
      "cell_type": "code",
      "execution_count": null,
      "metadata": {
        "colab": {
          "base_uri": "https://localhost:8080/"
        },
        "id": "N8YRRRrnFaAf",
        "outputId": "7d64a71d-0d16-44b6-c23b-e771eb412635"
      },
      "outputs": [
        {
          "output_type": "stream",
          "name": "stdout",
          "text": [
            "(1991, 785)\n"
          ]
        }
      ],
      "source": [
        "Data_test=np.append(X_test, Y_test.reshape(-1,1), axis=1)\n",
        "print(Data_test.shape)"
      ]
    },
    {
      "cell_type": "code",
      "execution_count": null,
      "metadata": {
        "colab": {
          "base_uri": "https://localhost:8080/"
        },
        "id": "7CT5zv7MFaAf",
        "outputId": "a7c165cc-04d4-4fbd-f2c8-4319077bb6f3"
      },
      "outputs": [
        {
          "output_type": "stream",
          "name": "stdout",
          "text": [
            "torch.Size([1, 1991, 785])\n",
            "torch.Size([1991, 784])\n",
            "torch.Size([1991, 1])\n",
            "torch.Size([784]) tensor(0)\n"
          ]
        }
      ],
      "source": [
        "#Transform the data\n",
        "Data_test= Transform(Data_test)\n",
        "print(Data_test.shape)\n",
        "\n",
        "X_test=Data_test[0,:,1:]\n",
        "Y_test=Data_test[0,:,784:]\n",
        "print(X_test.shape)\n",
        "print(Y_test.shape)\n",
        "\n",
        "#Visualize the data\n",
        "img, label = X_test[0,:], Y_test[0,0]\n",
        "print(img.shape, label)"
      ]
    },
    {
      "cell_type": "code",
      "execution_count": null,
      "metadata": {
        "colab": {
          "base_uri": "https://localhost:8080/",
          "height": 281
        },
        "id": "7PtMj7ddFaAf",
        "outputId": "057ec777-e647-4377-d7ab-c63b03b120d3"
      },
      "outputs": [
        {
          "output_type": "display_data",
          "data": {
            "text/plain": [
              "<Figure size 432x288 with 1 Axes>"
            ],
            "image/png": "[encoded data removed]"
          },
          "metadata": {
            "needs_background": "light"
          }
        }
      ],
      "source": [
        "\n",
        "plt.imshow(img.reshape(28,28), cmap='gray')\n",
        "if label==0:\n",
        "    plt.title('Label: 4')\n",
        "else:\n",
        "    plt.title('Label: 9')\n",
        "plt.show()\n",
        "\n"
      ]
    },
    {
      "cell_type": "code",
      "execution_count": null,
      "metadata": {
        "colab": {
          "base_uri": "https://localhost:8080/"
        },
        "id": "qm2sGIdlFaAf",
        "outputId": "08989fa4-eb9f-491f-a3a8-b1003f4ae6f5"
      },
      "outputs": [
        {
          "output_type": "stream",
          "name": "stdout",
          "text": [
            "torch.Size([1991, 28, 28])\n",
            "torch.Size([1991, 32, 32])\n"
          ]
        }
      ],
      "source": [
        "X_test=X_test.reshape(-1,28,28)\n",
        "print(X_test.shape)\n",
        "\n",
        "#Add padding to make the image 32x32\n",
        "X_test=torch.nn.functional.pad(X_test, (2,2,2,2), 'constant', 0)\n",
        "print(X_test.shape)"
      ]
    },
    {
      "cell_type": "code",
      "execution_count": null,
      "metadata": {
        "colab": {
          "base_uri": "https://localhost:8080/"
        },
        "id": "Jta-m7IEFaAf",
        "outputId": "52176a51-6ac2-4c46-ad86-7b9d983d149f"
      },
      "outputs": [
        {
          "output_type": "stream",
          "name": "stdout",
          "text": [
            "torch.Size([1991, 32, 32])\n"
          ]
        }
      ],
      "source": [
        "#Normalize the data\n",
        "X_test.type(torch.float32)\n",
        "mean=torch.mean(X_test.type(torch.float32))\n",
        "std=torch.std(X_test.type(torch.float32))\n",
        "X_test = (X_test-mean)/std\n",
        "print(X_test.shape)"
      ]
    },
    {
      "cell_type": "code",
      "execution_count": null,
      "metadata": {
        "colab": {
          "base_uri": "https://localhost:8080/"
        },
        "id": "pcuzBwjSFaAg",
        "outputId": "d0eb40a1-35ff-49ce-e20d-51f05c91952e"
      },
      "outputs": [
        {
          "output_type": "stream",
          "name": "stdout",
          "text": [
            "Accuracy of the network on the 10000 test images: 98.69412355600201 %\n"
          ]
        }
      ],
      "source": [
        "#Testing the model\n",
        "with torch.no_grad():\n",
        "    n_correct = 0\n",
        "    n_samples = 0\n",
        "    pred_list = []\n",
        "    true_list = []\n",
        "\n",
        "    for i in range(len(X_test)):\n",
        "        images = X_test[i].reshape(1,1,32,32).to(device)\n",
        "        labels = Y_test[i,:].to(device)\n",
        "        outputs = model(images)\n",
        "        \n",
        "        # round returns (value ,index)\n",
        "        predicted = torch.round(torch.sigmoid(outputs))\n",
        "        n_samples += labels.size(0)\n",
        "        n_correct += (predicted == labels).sum().item()\n",
        "        pred_list.append(predicted.cpu().numpy())\n",
        "        true_list.append(predicted.cpu().numpy())\n",
        "    \n",
        "    acc = 100.0 * n_correct / n_samples\n",
        "    print(f'Accuracy of the network on the 10000 test images: {acc} %')"
      ]
    },
    {
      "cell_type": "code",
      "source": [
        "with torch.no_grad():\n",
        "    n_samples = 0\n",
        "    n_class_correct = [0 for i in range(2)]\n",
        "    n_class_samples = [0 for i in range(2)]\n",
        "    for i in range(len(X_test)):\n",
        "        images = X_test[i].reshape(1,1,32,32).to(device)\n",
        "        labels = Y_test[i,:].to(device)\n",
        "        outputs = model(images)\n",
        "        \n",
        "        # max returns (value ,index)\n",
        "        predicted = torch.round(torch.sigmoid(outputs))\n",
        "        c = (predicted == labels).squeeze()\n",
        "        n_samples += labels.size(0)\n",
        "        n_class_samples[labels] += 1\n",
        "        n_class_correct[labels] += c.item()\n",
        "    \n",
        "    for i in range(2):\n",
        "        switch = {0:4, 1:9}\n",
        "        case = switch.get(i)\n",
        "        acc = 100.0 * n_class_correct[i] / n_class_samples[i]\n",
        "        print(f'Accuracy of {case} : {acc} %')"
      ],
      "metadata": {
        "colab": {
          "base_uri": "https://localhost:8080/"
        },
        "id": "rI_jWhx6LL6V",
        "outputId": "62a5783c-0071-48cf-931b-f5615d49b216"
      },
      "execution_count": null,
      "outputs": [
        {
          "output_type": "stream",
          "name": "stdout",
          "text": [
            "Accuracy of 4 : 99.28716904276986 %\n",
            "Accuracy of 9 : 98.1169474727453 %\n"
          ]
        }
      ]
    }
  ],
  "metadata": {
    "kernelspec": {
      "display_name": "Python 3.7.6 64-bit",
      "language": "python",
      "name": "python3"
    },
    "language_info": {
      "codemirror_mode": {
        "name": "ipython",
        "version": 3
      },
      "file_extension": ".py",
      "mimetype": "text/x-python",
      "name": "python",
      "nbconvert_exporter": "python",
      "pygments_lexer": "ipython3",
      "version": "3.7.6 (tags/v3.7.6:43364a7ae0, Dec 19 2019, 00:42:30) [MSC v.1916 64 bit (AMD64)]"
    },
    "orig_nbformat": 4,
    "vscode": {
      "interpreter": {
        "hash": "c4e677bd2fa28ed09d759069727da337a6d89193986d5f7d2179a74a78bebb11"
      }
    },
    "colab": {
      "provenance": [],
      "include_colab_link": true
    },
    "accelerator": "GPU",
    "gpuClass": "standard"
  },
  "nbformat": 4,
  "nbformat_minor": 0
}