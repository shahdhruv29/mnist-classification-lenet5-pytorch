{
  "cells": [
    {
      "cell_type": "markdown",
      "metadata": {
        "id": "view-in-github",
        "colab_type": "text"
      },
      "source": [
        "<a href=\"https://colab.research.google.com/github/shahdhruv29/mnist-classification-lenet5-pytorch/blob/main/mlp_model.ipynb\" target=\"_parent\"><img src=\"https://colab.research.google.com/assets/colab-badge.svg\" alt=\"Open In Colab\"/></a>"
      ]
    },
    {
      "cell_type": "code",
      "execution_count": null,
      "metadata": {
        "id": "DE6dk8in5bAw"
      },
      "outputs": [],
      "source": [
        "# Implemented the LeNet-5 Architecture to train the MNIST dataset.\n",
        "import torch\n",
        "import torch.nn as nn\n",
        "import torch.nn.functional as F\n",
        "from torch.utils.data import Dataset, DataLoader\n",
        "import torchvision\n",
        "import torchvision.transforms as transforms\n",
        "import numpy as np\n",
        "import pandas as pd\n",
        "import matplotlib.pyplot as plt"
      ]
    },
    {
      "cell_type": "code",
      "source": [
        "from google.colab import drive\n",
        "drive.mount('/content/drive')"
      ],
      "metadata": {
        "colab": {
          "base_uri": "https://localhost:8080/"
        },
        "id": "1Io5YRHb3GUP",
        "outputId": "cdcec07e-3947-433f-ab03-e5d8be4f5383"
      },
      "execution_count": null,
      "outputs": [
        {
          "output_type": "stream",
          "name": "stdout",
          "text": [
            "Mounted at /content/drive\n"
          ]
        }
      ]
    },
    {
      "cell_type": "code",
      "execution_count": null,
      "metadata": {
        "id": "9fckFehC5bAz",
        "outputId": "637e0cb4-32c4-4602-8e8e-1fbd8f668fcf",
        "colab": {
          "base_uri": "https://localhost:8080/"
        }
      },
      "outputs": [
        {
          "output_type": "stream",
          "name": "stdout",
          "text": [
            "(60000, 785)\n",
            "<class 'numpy.ndarray'>\n"
          ]
        }
      ],
      "source": [
        "#Loading the train data\n",
        "\n",
        "df=pd.read_csv('/content/drive/MyDrive/MNIST/mnist_train.csv')\n",
        "print(df.shape)\n",
        "\n",
        "#Convert df to pytorch tensor\n",
        "data=df.values\n",
        "print(type(data))\n",
        "# print(data.shape)"
      ]
    },
    {
      "cell_type": "code",
      "execution_count": null,
      "metadata": {
        "id": "EV2qq8HD5bA0",
        "outputId": "804967c9-73bf-4911-8786-0ff465c6095c",
        "colab": {
          "base_uri": "https://localhost:8080/"
        }
      },
      "outputs": [
        {
          "output_type": "stream",
          "name": "stdout",
          "text": [
            "torch.Size([1, 60000, 785])\n",
            "torch.Size([60000, 784])\n",
            "torch.Size([60000, 1])\n",
            "torch.Size([784]) tensor(5)\n"
          ]
        }
      ],
      "source": [
        "#Convert to torch tensors\n",
        "Transform = transforms.ToTensor()\n",
        "Data=Transform(data)\n",
        "print(Data.shape)\n",
        "\n",
        "#Seperate the data and labels\n",
        "X=Data[0,:,1:]\n",
        "Y=Data[0,:,0:1]\n",
        "print(X.shape)\n",
        "print(Y.shape)  \n",
        "\n",
        "\n",
        "#Visualize the data\n",
        "img, label = X[0,:], Y[0,0]\n",
        "print(img.shape, label)"
      ]
    },
    {
      "cell_type": "code",
      "execution_count": null,
      "metadata": {
        "id": "zGmLcj-95bA0",
        "outputId": "17a35644-6a9a-44d5-f6d7-16cde3fa3ebc",
        "colab": {
          "base_uri": "https://localhost:8080/",
          "height": 281
        }
      },
      "outputs": [
        {
          "output_type": "display_data",
          "data": {
            "text/plain": [
              "<Figure size 432x288 with 1 Axes>"
            ],
            "image/png": "[encoded data removed]"
          },
          "metadata": {
            "needs_background": "light"
          }
        }
      ],
      "source": [
        "plt.imshow(img.reshape(28,28), cmap='gray')\n",
        "plt.title('Label: '+str(label.item()))\n",
        "plt.show()"
      ]
    },
    {
      "cell_type": "code",
      "execution_count": null,
      "metadata": {
        "id": "AcaCcLe45bA1",
        "outputId": "9b3e45d3-fdb9-408f-f349-c2cfd4d5b694",
        "colab": {
          "base_uri": "https://localhost:8080/"
        }
      },
      "outputs": [
        {
          "output_type": "stream",
          "name": "stdout",
          "text": [
            "torch.Size([60000, 28, 28])\n",
            "torch.Size([60000, 32, 32])\n"
          ]
        }
      ],
      "source": [
        "#Resize each image to 28x28\n",
        "X=X.reshape(60000,28,28) #60000 images of 28x28\n",
        "print(X.shape)\n",
        "# print(type(X))\n",
        "\n",
        "#Add padding to make the image 32x32\n",
        "X=torch.nn.functional.pad(X, (2,2,2,2), 'constant', 0)\n",
        "print(X.shape)"
      ]
    },
    {
      "cell_type": "code",
      "execution_count": null,
      "metadata": {
        "id": "hO1pIPJQ5bA1",
        "outputId": "01f0f9d7-700a-4487-9066-0e1f0291e57c",
        "colab": {
          "base_uri": "https://localhost:8080/"
        }
      },
      "outputs": [
        {
          "output_type": "stream",
          "name": "stdout",
          "text": [
            "torch.Size([60000, 32, 32])\n"
          ]
        }
      ],
      "source": [
        "#Normalize the data\n",
        "X.type(torch.float32)\n",
        "mean=torch.mean(X.type(torch.float32))\n",
        "std=torch.std(X.type(torch.float32))\n",
        "X = (X-mean)/std \n",
        "print(X.shape)"
      ]
    },
    {
      "cell_type": "code",
      "execution_count": null,
      "metadata": {
        "id": "nP81tqS85bA1",
        "outputId": "dcf7fb05-ab2c-4245-d5b5-a3f6de128178",
        "colab": {
          "base_uri": "https://localhost:8080/"
        }
      },
      "outputs": [
        {
          "output_type": "stream",
          "name": "stdout",
          "text": [
            "Using cuda device\n"
          ]
        }
      ],
      "source": [
        "batch_size=8\n",
        "num_classes=10\n",
        "\n",
        "train_loader = torch.utils.data.DataLoader(dataset=X, batch_size=batch_size, shuffle=False)\n",
        "\n",
        "device = \"cuda\" if torch.cuda.is_available() else \"cpu\"\n",
        "print(f\"Using {device} device\")"
      ]
    },
    {
      "cell_type": "markdown",
      "metadata": {
        "id": "1cB0UL3O5bA2"
      },
      "source": [
        "Now we will try to implement the LeNet-5 Architecture"
      ]
    },
    {
      "cell_type": "code",
      "execution_count": null,
      "metadata": {
        "id": "jpd0cLRZ5bA2"
      },
      "outputs": [],
      "source": [
        "#Build a LeNet-5 model with ReLU \n",
        "class LeNet5(nn.Module):\n",
        "    def __init__(self) :\n",
        "        super(LeNet5, self).__init__()\n",
        "        self.layer1 = nn.Sequential(\n",
        "            nn.Conv2d(1,6,kernel_size=5,stride=1,padding=0),\n",
        "            nn.ReLU(),\n",
        "            nn.MaxPool2d(kernel_size=2, stride=2)\n",
        "        )\n",
        "        self.layer2 = nn.Sequential(\n",
        "            nn.Conv2d(6,16,kernel_size=5,stride=1,padding=0),\n",
        "            nn.ReLU(),\n",
        "            nn.MaxPool2d(kernel_size=2, stride=2)\n",
        "        )\n",
        "        self.layer3 = nn.Sequential(\n",
        "            nn.Conv2d(16,120,kernel_size=5,stride=1,padding=0),\n",
        "        )\n",
        "\n",
        "        self.fc=nn.Linear(120,84)\n",
        "        self.relu=nn.ReLU()\n",
        "        self.fc1=nn.Linear(84,10)\n",
        "    \n",
        "    def forward(self, x):\n",
        "        out=self.layer1(x)\n",
        "        out=self.layer2(out)\n",
        "        out=self.layer3(out)\n",
        "        out=out.reshape(out.size(0),-1)\n",
        "        out=self.fc(out)\n",
        "        out=self.relu(out)\n",
        "        out=self.fc1(out)\n",
        "        return out"
      ]
    },
    {
      "cell_type": "code",
      "execution_count": null,
      "metadata": {
        "id": "jHeirc6e5bA3",
        "outputId": "026b6497-f084-4e86-983d-2c5762073b6d",
        "colab": {
          "base_uri": "https://localhost:8080/"
        }
      },
      "outputs": [
        {
          "output_type": "stream",
          "name": "stdout",
          "text": [
            "LeNet5(\n",
            "  (layer1): Sequential(\n",
            "    (0): Conv2d(1, 6, kernel_size=(5, 5), stride=(1, 1))\n",
            "    (1): ReLU()\n",
            "    (2): MaxPool2d(kernel_size=2, stride=2, padding=0, dilation=1, ceil_mode=False)\n",
            "  )\n",
            "  (layer2): Sequential(\n",
            "    (0): Conv2d(6, 16, kernel_size=(5, 5), stride=(1, 1))\n",
            "    (1): ReLU()\n",
            "    (2): MaxPool2d(kernel_size=2, stride=2, padding=0, dilation=1, ceil_mode=False)\n",
            "  )\n",
            "  (layer3): Sequential(\n",
            "    (0): Conv2d(16, 120, kernel_size=(5, 5), stride=(1, 1))\n",
            "  )\n",
            "  (fc): Linear(in_features=120, out_features=84, bias=True)\n",
            "  (relu): ReLU()\n",
            "  (fc1): Linear(in_features=84, out_features=10, bias=True)\n",
            ")\n"
          ]
        }
      ],
      "source": [
        "#Setting the loss function and optimizer\n",
        "model = LeNet5().to(device)\n",
        "print(model)\n",
        "\n",
        "loss_fn = nn.CrossEntropyLoss()\n",
        "optimizer = torch.optim.Adam(model.parameters(), lr=1e-3)"
      ]
    },
    {
      "cell_type": "markdown",
      "metadata": {
        "id": "p2w0j2Lq5bA4"
      },
      "source": [
        "NOW WE WILL TRAIN THE MODEL WE DESIGNED ABOVE"
      ]
    },
    {
      "cell_type": "code",
      "execution_count": null,
      "metadata": {
        "id": "CHfE1gD85bA4",
        "outputId": "722cdae6-0059-4634-c7eb-97c97ede3d64",
        "colab": {
          "base_uri": "https://localhost:8080/"
        }
      },
      "outputs": [
        {
          "output_type": "stream",
          "name": "stdout",
          "text": [
            "Epoch 0/4\n",
            "----------\n",
            "Loss: 0.3028 Acc: 0.9073\n",
            "Epoch 1/4\n",
            "----------\n",
            "Loss: 0.1645 Acc: 0.9525\n",
            "Epoch 2/4\n",
            "----------\n",
            "Loss: 0.1353 Acc: 0.9624\n",
            "Epoch 3/4\n",
            "----------\n",
            "Loss: 0.1226 Acc: 0.9649\n",
            "Epoch 4/4\n",
            "----------\n",
            "Loss: 0.1125 Acc: 0.9719\n"
          ]
        }
      ],
      "source": [
        "#Training the model\n",
        "total_step = len(train_loader)\n",
        "num_epochs = 5\n",
        "acc_history = []\n",
        "loss_history = []\n",
        "\n",
        "for epoch in range(num_epochs):\n",
        "    print('Epoch {}/{}'.format(epoch, num_epochs - 1))\n",
        "    print('-' * 10)\n",
        "    running_loss = 0.0\n",
        "    running_corrects = 0\n",
        "    \n",
        "    for i in range(total_step):\n",
        "        # print(X[i].shape)\n",
        "        images = X[i].reshape(1,1,32,32).to(device)\n",
        "        # print(images.shape)\n",
        "        labels = Y[i,:].to(device)\n",
        "        # print(labels.shape)\n",
        "        \n",
        "        # Forward pass\n",
        "        outputs = model(images)\n",
        "        loss = loss_fn(outputs, labels)\n",
        "        _, preds = torch.max(outputs, 1)\n",
        "        \n",
        "        # Backward and optimize\n",
        "        optimizer.zero_grad()\n",
        "        loss.backward()\n",
        "        optimizer.step()\n",
        "\n",
        "        running_loss += loss.item() * images.size(0)\n",
        "        running_corrects += torch.sum(preds == labels.data)\n",
        "\n",
        "    epoch_loss = running_loss / total_step\n",
        "    epoch_acc = running_corrects.double() / total_step\n",
        "\n",
        "    print('Loss: {:.4f} Acc: {:.4f}'.format(epoch_loss, epoch_acc))\n",
        "\n",
        "    acc_history.append(epoch_acc.item())\n",
        "    loss_history.append(epoch_loss)\n",
        "        "
      ]
    },
    {
      "cell_type": "code",
      "source": [
        "torch.save(model.state_dict(), '/content/drive/MyDrive/MNIST/mlp_model1.pkl')"
      ],
      "metadata": {
        "id": "lItcV55y6Eti"
      },
      "execution_count": null,
      "outputs": []
    },
    {
      "cell_type": "code",
      "source": [
        "plt.plot(acc_history, color='r')"
      ],
      "metadata": {
        "colab": {
          "base_uri": "https://localhost:8080/",
          "height": 282
        },
        "id": "e1_d4faG-BBA",
        "outputId": "01d6c6f4-e90f-48a2-9fd8-813271a0711a"
      },
      "execution_count": null,
      "outputs": [
        {
          "output_type": "execute_result",
          "data": {
            "text/plain": [
              "[<matplotlib.lines.Line2D at 0x7f55918e40d0>]"
            ]
          },
          "metadata": {},
          "execution_count": 16
        },
        {
          "output_type": "display_data",
          "data": {
            "text/plain": [
              "<Figure size 432x288 with 1 Axes>"
            ],
            "image/png": "[encoded data removed]"
          },
          "metadata": {
            "needs_background": "light"
          }
        }
      ]
    },
    {
      "cell_type": "code",
      "execution_count": null,
      "metadata": {
        "id": "Bfgsgfma5bA5",
        "outputId": "657acd70-cfd4-4826-8b9a-a8c05cc3abee",
        "colab": {
          "base_uri": "https://localhost:8080/"
        }
      },
      "outputs": [
        {
          "output_type": "stream",
          "name": "stdout",
          "text": [
            "(10000, 785)\n",
            "<class 'numpy.ndarray'>\n"
          ]
        }
      ],
      "source": [
        "#Loading the test data\n",
        "df2=pd.read_csv('/content/drive/MyDrive/MNIST/mnist_test.csv')\n",
        "print(df2.shape)\n",
        "\n",
        "#Convert df to pytorch tensor\n",
        "data2=df2.values\n",
        "print(type(data2))\n",
        "# print(data.shape)"
      ]
    },
    {
      "cell_type": "code",
      "execution_count": null,
      "metadata": {
        "id": "rSt2ANSA5bA5",
        "outputId": "34aa2468-4373-468c-9e01-644ba2a83050",
        "colab": {
          "base_uri": "https://localhost:8080/"
        }
      },
      "outputs": [
        {
          "output_type": "stream",
          "name": "stdout",
          "text": [
            "torch.Size([1, 10000, 785])\n",
            "torch.Size([10000, 784])\n",
            "torch.Size([10000, 1])\n",
            "torch.Size([10000, 28, 28])\n",
            "torch.Size([10000, 32, 32])\n"
          ]
        }
      ],
      "source": [
        "#Convert to torch tensors\n",
        "Transform = transforms.ToTensor()\n",
        "Data2=Transform(data2)\n",
        "# Y=Transform(data[:,0])\n",
        "print(Data2.shape)\n",
        "\n",
        "#Seperate the data and labels\n",
        "X_test=Data2[0,:,1:]\n",
        "Y_test=Data2[0,:,0:1]\n",
        "print(X_test.shape)\n",
        "print(Y_test.shape)\n",
        "\n",
        "#Resize each image to 28x28\n",
        "X_test=X_test.reshape(-1,28,28) #10000 images of 28x28\n",
        "print(X_test.shape)\n",
        "\n",
        "#Add padding to make the image 32x32\n",
        "X_test=torch.nn.functional.pad(X_test, (2,2,2,2), 'constant', 0)\n",
        "print(X_test.shape)"
      ]
    },
    {
      "cell_type": "code",
      "execution_count": null,
      "metadata": {
        "id": "A3jpZZqR5bA5",
        "outputId": "d1a72765-7d00-447e-c0b0-c2d6d00e14f2",
        "colab": {
          "base_uri": "https://localhost:8080/"
        }
      },
      "outputs": [
        {
          "output_type": "stream",
          "name": "stdout",
          "text": [
            "torch.Size([10000, 32, 32])\n"
          ]
        }
      ],
      "source": [
        "# X_test.type(torch.float32)\n",
        "mean=torch.mean(X_test.type(torch.float32))\n",
        "std=torch.std(X_test.type(torch.float32))\n",
        "X_test = (X_test-mean)/std \n",
        "print(X_test.shape)"
      ]
    },
    {
      "cell_type": "code",
      "execution_count": null,
      "metadata": {
        "id": "Q2ai_jTR5bA5",
        "outputId": "6e930459-2584-4633-dea8-94eeecb1319d",
        "colab": {
          "base_uri": "https://localhost:8080/"
        }
      },
      "outputs": [
        {
          "output_type": "stream",
          "name": "stdout",
          "text": [
            "Accuracy of the network on the 10000 test images: 95.91 %\n"
          ]
        }
      ],
      "source": [
        "#Testing the model\n",
        "with torch.no_grad():\n",
        "    n_correct = 0\n",
        "    n_samples = 0\n",
        "    pred_list = []\n",
        "    true_list = []\n",
        "\n",
        "    for i in range(len(X_test)):\n",
        "        images = X_test[i].reshape(1,1,32,32).to(device)\n",
        "        labels = Y_test[i,:].to(device)\n",
        "        outputs = model(images)\n",
        "        \n",
        "        # max returns (value ,index)\n",
        "        _, predicted = torch.max(outputs.data, 1)\n",
        "        n_samples += labels.size(0)\n",
        "        n_correct += (predicted == labels).sum().item()\n",
        "        pred_list.append(predicted.cpu().numpy())\n",
        "        true_list.append(predicted.cpu().numpy())\n",
        "\n",
        "    \n",
        "    acc = 100.0 * n_correct / n_samples\n",
        "    print(f'Accuracy of the network on the 10000 test images: {acc} %')"
      ]
    },
    {
      "cell_type": "code",
      "source": [
        "from sklearn.metrics import confusion_matrix\n",
        "import seaborn as sns\n",
        "\n",
        "cm = confusion_matrix(true_list, pred_list)\n",
        "# print(cm)\n",
        "\n",
        "plt.figure(figsize = (10,7))\n",
        "sns.heatmap(cm, annot=True)\n",
        "plt.xlabel('Predicted')\n",
        "plt.ylabel('Truth')"
      ],
      "metadata": {
        "colab": {
          "base_uri": "https://localhost:8080/",
          "height": 459
        },
        "id": "nrQEopZXEME7",
        "outputId": "dce7126c-d131-455c-a8ed-bd11a8853232"
      },
      "execution_count": null,
      "outputs": [
        {
          "output_type": "execute_result",
          "data": {
            "text/plain": [
              "Text(69.0, 0.5, 'Truth')"
            ]
          },
          "metadata": {},
          "execution_count": 25
        },
        {
          "output_type": "display_data",
          "data": {
            "text/plain": [
              "<Figure size 720x504 with 2 Axes>"
            ],
            "image/png": "[encoded data removed]"
          },
          "metadata": {
            "needs_background": "light"
          }
        }
      ]
    }
  ],
  "metadata": {
    "kernelspec": {
      "display_name": "Python 3.7.6 64-bit",
      "language": "python",
      "name": "python3"
    },
    "language_info": {
      "codemirror_mode": {
        "name": "ipython",
        "version": 3
      },
      "file_extension": ".py",
      "mimetype": "text/x-python",
      "name": "python",
      "nbconvert_exporter": "python",
      "pygments_lexer": "ipython3",
      "version": "3.7.6 (tags/v3.7.6:43364a7ae0, Dec 19 2019, 00:42:30) [MSC v.1916 64 bit (AMD64)]"
    },
    "orig_nbformat": 4,
    "vscode": {
      "interpreter": {
        "hash": "c4e677bd2fa28ed09d759069727da337a6d89193986d5f7d2179a74a78bebb11"
      }
    },
    "colab": {
      "provenance": [],
      "include_colab_link": true
    },
    "accelerator": "GPU",
    "gpuClass": "standard"
  },
  "nbformat": 4,
  "nbformat_minor": 0
}